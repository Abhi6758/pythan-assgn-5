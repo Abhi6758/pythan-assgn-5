{
 "cells": [
  {
   "cell_type": "code",
   "execution_count": 1,
   "id": "9c69c14a-5ef2-4bd1-8c0e-3191e8f6b920",
   "metadata": {},
   "outputs": [
    {
     "name": "stdout",
     "output_type": "stream",
     "text": [
      "Squares of the numbers: [1, 4, 9, 16, 25, 36, 49, 64, 81, 100]\n"
     ]
    }
   ],
   "source": [
    "numbers = [1, 2, 3, 4, 5, 6, 7, 8, 9, 10]\n",
    "\n",
    "# Using lambda and map functions to find squares of all numbers\n",
    "squares = list(map(lambda x: x**2, numbers))\n",
    "\n",
    "# Printing the squares\n",
    "print(\"Squares of the numbers:\", squares)"
   ]
  },
  {
   "cell_type": "code",
   "execution_count": null,
   "id": "09cb2db8-a310-4b64-912e-ac4def546aba",
   "metadata": {},
   "outputs": [],
   "source": []
  }
 ],
 "metadata": {
  "kernelspec": {
   "display_name": "Python 3 (ipykernel)",
   "language": "python",
   "name": "python3"
  },
  "language_info": {
   "codemirror_mode": {
    "name": "ipython",
    "version": 3
   },
   "file_extension": ".py",
   "mimetype": "text/x-python",
   "name": "python",
   "nbconvert_exporter": "python",
   "pygments_lexer": "ipython3",
   "version": "3.10.8"
  }
 },
 "nbformat": 4,
 "nbformat_minor": 5
}
