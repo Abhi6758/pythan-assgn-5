{
 "cells": [
  {
   "cell_type": "code",
   "execution_count": 3,
   "id": "e13cc5cf-a8ff-4440-98e6-b043977e8c51",
   "metadata": {},
   "outputs": [
    {
     "name": "stdout",
     "output_type": "stream",
     "text": [
      "Sorted list of tuples based on runs scored:\n",
      "Sachin Tendulkar: 34357\n",
      "Ricky Ponting: 27483\n",
      "Jack Kallis: 25534\n",
      "Virat Kohli: 24936\n"
     ]
    }
   ],
   "source": [
    "players_runs = [('Sachin Tendulkar', 34357), ('Ricky Ponting', 27483), ('Jack Kallis', 25534), ('Virat Kohli', 24936)]\n",
    "\n",
    "# Sort the list of tuples based on the integer value using a lambda function\n",
    "sorted_list = sorted(players_runs, key=lambda x: x[1], reverse=True)\n",
    "\n",
    "# Print the sorted list\n",
    "print(\"Sorted list of tuples based on runs scored:\")\n",
    "for player, runs in sorted_list:\n",
    "    print(player + \":\", runs)"
   ]
  },
  {
   "cell_type": "code",
   "execution_count": null,
   "id": "fcd73d68-9902-4f51-b423-dd6a86caa1cd",
   "metadata": {},
   "outputs": [],
   "source": []
  }
 ],
 "metadata": {
  "kernelspec": {
   "display_name": "Python 3 (ipykernel)",
   "language": "python",
   "name": "python3"
  },
  "language_info": {
   "codemirror_mode": {
    "name": "ipython",
    "version": 3
   },
   "file_extension": ".py",
   "mimetype": "text/x-python",
   "name": "python",
   "nbconvert_exporter": "python",
   "pygments_lexer": "ipython3",
   "version": "3.10.8"
  }
 },
 "nbformat": 4,
 "nbformat_minor": 5
}
