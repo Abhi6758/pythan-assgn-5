{
 "cells": [
  {
   "cell_type": "code",
   "execution_count": 1,
   "id": "d4c1bbca-224e-4309-a87d-ff39588e8c61",
   "metadata": {},
   "outputs": [
    {
     "name": "stdout",
     "output_type": "stream",
     "text": [
      "Palindromes in the list: ['php', 'aba', 'radar', 'level']\n"
     ]
    }
   ],
   "source": [
    "strings_list = ['python', 'php', 'aba', 'radar', 'level']\n",
    "\n",
    "# Using filter function with lambda to find palindromes\n",
    "palindromes = list(filter(lambda x: x == x[::-1], strings_list))\n",
    "\n",
    "# Printing the palindromes\n",
    "print(\"Palindromes in the list:\", palindromes)\n"
   ]
  },
  {
   "cell_type": "code",
   "execution_count": null,
   "id": "a4467d11-8bd8-4c04-938c-0f35f2604da6",
   "metadata": {},
   "outputs": [],
   "source": []
  }
 ],
 "metadata": {
  "kernelspec": {
   "display_name": "Python 3 (ipykernel)",
   "language": "python",
   "name": "python3"
  },
  "language_info": {
   "codemirror_mode": {
    "name": "ipython",
    "version": 3
   },
   "file_extension": ".py",
   "mimetype": "text/x-python",
   "name": "python",
   "nbconvert_exporter": "python",
   "pygments_lexer": "ipython3",
   "version": "3.10.8"
  }
 },
 "nbformat": 4,
 "nbformat_minor": 5
}
